{
 "cells": [
  {
   "cell_type": "code",
   "execution_count": 16,
   "metadata": {},
   "outputs": [],
   "source": [
    "import os\n",
    "import csv\n",
    "\n"
   ]
  },
  {
   "cell_type": "code",
   "execution_count": 34,
   "metadata": {},
   "outputs": [
    {
     "name": "stdout",
     "output_type": "stream",
     "text": [
      "Financial Analysis\n",
      "------------------\n",
      "Total Months: 86\n",
      "Total Revenue: $38382578\n",
      "Average Revenue Change: $446309\n",
      "Average Change in Revenue Change: $7803\n",
      "Greatest Increase in Revenue:Feb-2012 ($1170593)\n",
      "Greatest Decrease in Revenue:Sep-2013 ($-1196225)\n"
     ]
    }
   ],
   "source": [
    "#open CSV File\n",
    "csvpath = os.path.join(\"budget_data.csv\")\n",
    "with open(csvpath) as csvfile:\n",
    "    \n",
    "\n",
    "    csvreader=csv.reader(csvfile,delimiter=',')\n",
    "  \n",
    "    months=0\n",
    "    revenue=0\n",
    "\n",
    "    rows=[r for r in csvreader]\n",
    "    \n",
    "    change_revenue=int(rows[1][1])\n",
    "    max = rows[1]\n",
    "\n",
    "    for i in range(1,len(rows)):\n",
    "        \n",
    "        months=months+1\n",
    "        row=rows[i]\n",
    "        revenue= int(row[1]) + revenue\n",
    "        \n",
    "        #Excluding the Header Row\n",
    "        if i > 1:\n",
    "            change_revenue=change_revenue + int(row[1])-int(rows[i-1][1])\n",
    "        #Finding Max Revenue\n",
    "        if int(max[1]) < int(row[1]):\n",
    "            max=row\n",
    "        #Finding Min Revenue\n",
    "        if int(min[1]) > int(row[1]):\n",
    "            min=row\n",
    "            \n",
    "#Calculating Average and Average Change in Revenue\n",
    "average= int(revenue /months)\n",
    "average_change_revenue=int(change_revenue/months)\n",
    "\n",
    "#Printing the Outputs\n",
    "print(\"Financial Analysis\")\n",
    "print(\"------------------\")\n",
    "print(\"Total Months: \" + str(months))\n",
    "print(\"Total Revenue: \" +\"$\" +str(revenue))       \n",
    "print(\"Average Revenue Change: \" +\"$\"+ str(average))\n",
    "print(\"Average Change in Revenue Change: \" +\"$\"+ str(average_change_revenue))\n",
    "print(\"Greatest Increase in Revenue:\" + str(max[0])+\" ($\" + str(max[1])+\")\")\n",
    "print(\"Greatest Decrease in Revenue:\" + str(min[0])+\" ($\" + str(min[1])+\")\")\n"
   ]
  },
  {
   "cell_type": "code",
   "execution_count": null,
   "metadata": {},
   "outputs": [],
   "source": []
  },
  {
   "cell_type": "code",
   "execution_count": null,
   "metadata": {},
   "outputs": [],
   "source": []
  }
 ],
 "metadata": {
  "kernelspec": {
   "display_name": "Python 3",
   "language": "python",
   "name": "python3"
  },
  "language_info": {
   "codemirror_mode": {
    "name": "ipython",
    "version": 3
   },
   "file_extension": ".py",
   "mimetype": "text/x-python",
   "name": "python",
   "nbconvert_exporter": "python",
   "pygments_lexer": "ipython3",
   "version": "3.7.4"
  }
 },
 "nbformat": 4,
 "nbformat_minor": 4
}
