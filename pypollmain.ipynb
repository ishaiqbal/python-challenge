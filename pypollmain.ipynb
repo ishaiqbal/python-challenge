{
 "cells": [
  {
   "cell_type": "code",
   "execution_count": 28,
   "metadata": {},
   "outputs": [],
   "source": [
    "import os \n",
    "import csv \n"
   ]
  },
  {
   "cell_type": "code",
   "execution_count": 31,
   "metadata": {},
   "outputs": [
    {
     "name": "stdout",
     "output_type": "stream",
     "text": [
      "-------------------------\n",
      "Election Results\n",
      "-------------------------\n",
      "Total Votes :3521001\n",
      "-------------------------\n",
      "Correy: 19.999994319797125% (704200)\n",
      "Khan: 63.00001050837531% (2218231)\n",
      "Li: 13.999996023857989% (492940)\n",
      "O'Tooley: 2.999999147969569% (105630)\n",
      "-------------------------\n",
      "The winner is: Khan\n",
      "-------------------------\n"
     ]
    }
   ],
   "source": [
    "\n",
    "PyPollcsv = os.path.join(\"election_data.csv\")\n",
    "\n",
    "count = 0\n",
    "candidatelist = []\n",
    "unique_candidate = []\n",
    "vote_count = []\n",
    "vote_percent = []\n",
    "\n",
    "# OPENING CSV \n",
    "with open(PyPollcsv, newline=\"\") as csvfile:\n",
    "    csvreader = csv.reader(csvfile, delimiter=\",\")\n",
    "    csv_header = next(csvreader)\n",
    "\n",
    "    for row in csvreader:\n",
    "        # COUNT TOTAL NUMBER OF VOTES \n",
    "        count = count + 1\n",
    "        # CANDIDATE NAMES \n",
    "        candidatelist.append(row[2])\n",
    "        # CREATE SET \n",
    "    for x in set(candidatelist):\n",
    "        unique_candidate.append(x)\n",
    "        # TOTAL NUMBER OF VOTES PER CANDIDATE \n",
    "        y = candidatelist.count(x)\n",
    "        vote_count.append(y)\n",
    "        # Z IS PERCENT NUMBER OF VOTES PER CANDIDATE\n",
    "        z = (y/count)*100\n",
    "        vote_percent.append(z)\n",
    "        \n",
    "    winning_vote_count = max(vote_count)\n",
    "    winner = unique_candidate[vote_count.index(winning_vote_count)]\n",
    "    \n",
    "        \n",
    "print(\"-------------------------\")\n",
    "print(\"Election Results\")   \n",
    "print(\"-------------------------\")\n",
    "print(\"Total Votes :\" + str(count))    \n",
    "print(\"-------------------------\")\n",
    "for i in range(len(unique_candidate)):\n",
    "            print(unique_candidate[i] + \": \" + str(vote_percent[i]) +\"% (\" + str(vote_count[i])+ \")\")\n",
    "print(\"-------------------------\")\n",
    "print(\"The winner is: \" + winner)\n",
    "print(\"-------------------------\")\n",
    "\n",
    "\n",
    "with open('election_results.txt', 'w') as text:\n",
    "    text.write(\"Election Results\\n\")\n",
    "    text.write(\"---------------------------------------\\n\")\n",
    "    text.write(\"Total Vote: \" + str(count) + \"\\n\")\n",
    "    text.write(\"---------------------------------------\\n\")\n",
    "    for i in range(len(set(unique_candidate))):\n",
    "        text.write(unique_candidate[i] + \": \" + str(vote_percent[i]) +\"% (\" + str(vote_count[i]) + \")\\n\")\n",
    "    text.write(\"---------------------------------------\\n\")\n",
    "    text.write(\"The winner is: \" + winner + \"\\n\")\n",
    "    text.write(\"---------------------------------------\\n\")\n",
    "\n"
   ]
  },
  {
   "cell_type": "code",
   "execution_count": null,
   "metadata": {},
   "outputs": [],
   "source": []
  },
  {
   "cell_type": "code",
   "execution_count": null,
   "metadata": {},
   "outputs": [],
   "source": []
  }
 ],
 "metadata": {
  "kernelspec": {
   "display_name": "Python 3",
   "language": "python",
   "name": "python3"
  },
  "language_info": {
   "codemirror_mode": {
    "name": "ipython",
    "version": 3
   },
   "file_extension": ".py",
   "mimetype": "text/x-python",
   "name": "python",
   "nbconvert_exporter": "python",
   "pygments_lexer": "ipython3",
   "version": "3.7.4"
  }
 },
 "nbformat": 4,
 "nbformat_minor": 4
}
